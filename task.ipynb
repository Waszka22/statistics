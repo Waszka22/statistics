{
 "cells": [
  {
   "cell_type": "markdown",
   "metadata": {},
   "source": [
    "\n",
    "\n",
    "### Task 1: Permutations and Combinations\n",
    "Suppose we alter the Lady Tasting Tea experiment to involve twelve cups of tea. Six have the milk in first and the other six having tea in first. A person claims they have the special power of being able to tell whether the tea or the milk went into a cup first upon tasting it. You agree to accept their claim if they can tell which of the six cups in your experiment had the milk in first.\n",
    "\n",
    "Calculate, using Python, the probability that they select the correct six cups. Here you should assume that they have no special powers in figuring it out, that they are just guessing. Remember to show and justify your workings in code and MarkDown cells.\n",
    "\n",
    "Suppose, now, you are willing to accept one error. Once they select the six cups they think had the milk in first, you will give them the benefit of the doubt should they have selected at least five of the correct cups. Calculate the probability, assuming they have no special powers, that the person makes at most one error.\n",
    "\n",
    "Would you accept two errors? Explain."
   ]
  },
  {
   "cell_type": "code",
   "execution_count": 3,
   "metadata": {},
   "outputs": [],
   "source": [
    "# Importing \n",
    "import math\n",
    "import pandas as pd\n",
    "import os\n",
    "import numpy as np"
   ]
  },
  {
   "cell_type": "code",
   "execution_count": 4,
   "metadata": {},
   "outputs": [],
   "source": [
    "## Creating cups list represents a sequence of integers starting from 0 and ending at 6\n",
    "cups = [0, 1, 2, 3, 4, 5, 6]"
   ]
  },
  {
   "cell_type": "code",
   "execution_count": 5,
   "metadata": {},
   "outputs": [
    {
     "data": {
      "text/plain": [
       "70.0"
      ]
     },
     "execution_count": 5,
     "metadata": {},
     "output_type": "execute_result"
    }
   ],
   "source": [
    "pnum = (8*7*6*5)/(4*3*2*1)\n",
    "pnum"
   ]
  },
  {
   "cell_type": "code",
   "execution_count": 6,
   "metadata": {},
   "outputs": [
    {
     "name": "stdout",
     "output_type": "stream",
     "text": [
      "The probability to select exactly the correct 4 out of 8 cups =  0.014285714285714285 %\n"
     ]
    }
   ],
   "source": [
    "prob = (1/70)\n",
    "print(\"The probability to select exactly the correct 4 out of 8 cups = \", prob, '%')"
   ]
  },
  {
   "cell_type": "code",
   "execution_count": 7,
   "metadata": {},
   "outputs": [
    {
     "ename": "TypeError",
     "evalue": "'list' object cannot be interpreted as an integer",
     "output_type": "error",
     "traceback": [
      "\u001b[0;31m---------------------------------------------------------------------------\u001b[0m",
      "\u001b[0;31mTypeError\u001b[0m                                 Traceback (most recent call last)",
      "Cell \u001b[0;32mIn[7], line 2\u001b[0m\n\u001b[1;32m      1\u001b[0m \u001b[38;5;66;03m# The cup labels\u001b[39;00m\n\u001b[0;32m----> 2\u001b[0m labels \u001b[38;5;241m=\u001b[39m \u001b[38;5;28mlist\u001b[39m(\u001b[38;5;28;43mrange\u001b[39;49m\u001b[43m(\u001b[49m\u001b[43mcups\u001b[49m\u001b[43m)\u001b[49m)\n\u001b[1;32m      4\u001b[0m \u001b[38;5;66;03m# Show\u001b[39;00m\n\u001b[1;32m      5\u001b[0m labels\n",
      "\u001b[0;31mTypeError\u001b[0m: 'list' object cannot be interpreted as an integer"
     ]
    }
   ],
   "source": [
    "# The cup labels\n",
    "labels = list(range(cups))\n",
    "\n",
    "# Show\n",
    "labels"
   ]
  },
  {
   "cell_type": "code",
   "execution_count": 5,
   "metadata": {},
   "outputs": [
    {
     "data": {
      "text/plain": [
       "(0.0010822510822510823, 0.04004329004329004, 0.28354978354978355)"
      ]
     },
     "execution_count": 5,
     "metadata": {},
     "output_type": "execute_result"
    }
   ],
   "source": [
    "# Function to calculate combinations (n choose k)\n",
    "def comb(n, k):\n",
    "    return math.comb(n, k)\n",
    "\n",
    "# Total number of ways to choose 6 cups out of 12\n",
    "total_outcomes = comb(12, 6)\n",
    "\n",
    "# Probability of guessing all 6 cups correctly\n",
    "correct_6 = 1 / total_outcomes\n",
    "\n",
    "# Probability of guessing exactly 5 cups correctly (5 correct, 1 incorrect)\n",
    "correct_5 = (comb(6, 5) * comb(6, 1)) / total_outcomes\n",
    "\n",
    "# Probability of guessing at least 5 cups correctly (5 or 6 correct)\n",
    "at_least_5_correct = correct_5 + correct_6\n",
    "\n",
    "# Probability of guessing exactly 4 cups correctly (4 correct, 2 incorrect)\n",
    "correct_4 = (comb(6, 4) * comb(6, 2)) / total_outcomes\n",
    "\n",
    "# Probability of guessing at least 4 cups correctly (4, 5, or 6 correct)\n",
    "at_least_4_correct = correct_4 + correct_5 + correct_6\n",
    "\n",
    "# Output results\n",
    "correct_6, at_least_5_correct, at_least_4_correct\n"
   ]
  },
  {
   "cell_type": "markdown",
   "metadata": {},
   "source": [
    "---\n",
    "### Task 2: numpy's Normal Distribution\n",
    "In this task you will assess whether numpy.random.normal() properly generates normal values. To begin, generate a sample of one hundred thousand values using the function with mean 10.0 and standard deviation 3.0.\n",
    "\n",
    "Use the scipy.stats.shapiro() function to test whether your sample came from a normal distribution. Explain the results and output.\n",
    "\n",
    "Plot a histogram of your values and plot the corresponding normal distribution probability density function on top of it."
   ]
  },
  {
   "cell_type": "code",
   "execution_count": null,
   "metadata": {},
   "outputs": [],
   "source": []
  },
  {
   "cell_type": "markdown",
   "metadata": {},
   "source": [
    "---\n",
    "#### Task 3: t-Test Calculation\n",
    "Consider the following dataset containing resting heart rates for patients before and after embarking on a two-week exercise program.\n",
    "\n",
    "Patient ID\t0\t1\t2\t3\t4\t5\t6\t7\t8\t9\n",
    "Before\t63\t68\t70\t64\t74\t67\t70\t57\t66\t65\n",
    "After\t64\t64\t68\t64\t73\t70\t72\t54\t61\t63\n",
    "Calculate the t-statistic based on this data set, using Python. Compare it to the value given by scipy.stats. Explain your work and list any sources used."
   ]
  },
  {
   "cell_type": "markdown",
   "metadata": {},
   "source": []
  },
  {
   "cell_type": "markdown",
   "metadata": {},
   "source": [
    "---\n",
    "#### Task 4: ANOVA\n",
    "In this test we will estimate the probability of committing a type II error in specific circumstances. To begin, create a variable called no_type_ii and set it to 0.\n",
    "\n",
    "Now use a loop to perform the following test 10,000 times.\n",
    "\n",
    "Use numpy.random.normal to generate three samples with 100 values each. Give each a standard deviation of 0.1. Give the first sample a mean of 4.9, the second a mean of 5.0, and the third a mean of 5.1.\n",
    "\n",
    "Perform one-way anova on the three samples and add 1 to no_type_ii whenever a type II error occurs.\n",
    "\n",
    "Summarize and explain your results."
   ]
  },
  {
   "cell_type": "markdown",
   "metadata": {},
   "source": []
  }
 ],
 "metadata": {
  "kernelspec": {
   "display_name": "Python 3",
   "language": "python",
   "name": "python3"
  },
  "language_info": {
   "codemirror_mode": {
    "name": "ipython",
    "version": 3
   },
   "file_extension": ".py",
   "mimetype": "text/x-python",
   "name": "python",
   "nbconvert_exporter": "python",
   "pygments_lexer": "ipython3",
   "version": "3.12.1"
  }
 },
 "nbformat": 4,
 "nbformat_minor": 2
}

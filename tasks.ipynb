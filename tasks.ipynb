{
 "cells": [
  {
   "cell_type": "markdown",
   "metadata": {},
   "source": [
    "---\n",
    "Assessment Repository\n",
    "\n",
    "Task Assessment for <em><strong>Applied Statistics</strong></em> module on <em><strong>Higher Diploma in Science in Computing in Data Analytics at ATU</strong></em>. \n",
    "\n",
    "Submitted by: Agnieszka Waszczuk \n",
    "\n",
    "Lecturer: Ian McLoughlin\n",
    "\n",
    "---"
   ]
  },
  {
   "cell_type": "markdown",
   "metadata": {},
   "source": [
    "\n",
    "\n",
    "### Task 1: Permutations and Combinations\n",
    "Suppose we alter the Lady Tasting Tea experiment to involve twelve cups of tea. Six have the milk in first and the other six having tea in first. A person claims they have the special power of being able to tell whether the tea or the milk went into a cup first upon tasting it. You agree to accept their claim if they can tell which of the six cups in your experiment had the milk in first.\n",
    "\n",
    "Calculate, using Python, the probability that they select the correct six cups. Here you should assume that they have no special powers in figuring it out, that they are just guessing. Remember to show and justify your workings in code and MarkDown cells.\n",
    "\n",
    "Suppose, now, you are willing to accept one error. Once they select the six cups they think had the milk in first, you will give them the benefit of the doubt should they have selected at least five of the correct cups. Calculate the probability, assuming they have no special powers, that the person makes at most one error.\n",
    "\n",
    "Would you accept two errors? Explain."
   ]
  },
  {
   "cell_type": "code",
   "execution_count": 39,
   "metadata": {},
   "outputs": [],
   "source": [
    "# Importing \n",
    "import math\n",
    "import pandas as pd\n",
    "import os\n",
    "import numpy as np"
   ]
  },
  {
   "cell_type": "code",
   "execution_count": 40,
   "metadata": {},
   "outputs": [],
   "source": [
    "## Creating cups list represents a sequence of integers starting from 0 and ending at 6\n",
    "cups = [0, 1, 2, 3, 4, 5, 6]"
   ]
  },
  {
   "cell_type": "code",
   "execution_count": 41,
   "metadata": {},
   "outputs": [
    {
     "data": {
      "text/plain": [
       "70.0"
      ]
     },
     "execution_count": 41,
     "metadata": {},
     "output_type": "execute_result"
    }
   ],
   "source": [
    "pnum = (8*7*6*5)/(4*3*2*1)\n",
    "pnum"
   ]
  },
  {
   "cell_type": "code",
   "execution_count": 42,
   "metadata": {},
   "outputs": [
    {
     "name": "stdout",
     "output_type": "stream",
     "text": [
      "The probability to select exactly the correct 4 out of 8 cups =  0.014285714285714285 %\n"
     ]
    }
   ],
   "source": [
    "prob = (1/70)\n",
    "print(\"The probability to select exactly the correct 4 out of 8 cups = \", prob, '%')"
   ]
  },
  {
   "cell_type": "code",
   "execution_count": 43,
   "metadata": {},
   "outputs": [
    {
     "ename": "TypeError",
     "evalue": "'list' object cannot be interpreted as an integer",
     "output_type": "error",
     "traceback": [
      "\u001b[0;31m---------------------------------------------------------------------------\u001b[0m",
      "\u001b[0;31mTypeError\u001b[0m                                 Traceback (most recent call last)",
      "Cell \u001b[0;32mIn[43], line 2\u001b[0m\n\u001b[1;32m      1\u001b[0m \u001b[38;5;66;03m# The cup labels\u001b[39;00m\n\u001b[0;32m----> 2\u001b[0m labels \u001b[38;5;241m=\u001b[39m \u001b[38;5;28mlist\u001b[39m(\u001b[38;5;28;43mrange\u001b[39;49m\u001b[43m(\u001b[49m\u001b[43mcups\u001b[49m\u001b[43m)\u001b[49m)\n\u001b[1;32m      4\u001b[0m \u001b[38;5;66;03m# Show\u001b[39;00m\n\u001b[1;32m      5\u001b[0m labels\n",
      "\u001b[0;31mTypeError\u001b[0m: 'list' object cannot be interpreted as an integer"
     ]
    }
   ],
   "source": [
    "# The cup labels\n",
    "labels = list(range(cups))\n",
    "\n",
    "# Show\n",
    "labels"
   ]
  },
  {
   "cell_type": "code",
   "execution_count": null,
   "metadata": {},
   "outputs": [
    {
     "data": {
      "text/plain": [
       "(0.0010822510822510823, 0.04004329004329004, 0.28354978354978355)"
      ]
     },
     "execution_count": 5,
     "metadata": {},
     "output_type": "execute_result"
    }
   ],
   "source": [
    "# Function to calculate combinations (n choose k)\n",
    "def comb(n, k):\n",
    "    return math.comb(n, k)\n",
    "\n",
    "# Total number of ways to choose 6 cups out of 12\n",
    "total_outcomes = comb(12, 6)\n",
    "\n",
    "# Probability of guessing all 6 cups correctly\n",
    "correct_6 = 1 / total_outcomes\n",
    "\n",
    "# Probability of guessing exactly 5 cups correctly (5 correct, 1 incorrect)\n",
    "correct_5 = (comb(6, 5) * comb(6, 1)) / total_outcomes\n",
    "\n",
    "# Probability of guessing at least 5 cups correctly (5 or 6 correct)\n",
    "at_least_5_correct = correct_5 + correct_6\n",
    "\n",
    "# Probability of guessing exactly 4 cups correctly (4 correct, 2 incorrect)\n",
    "correct_4 = (comb(6, 4) * comb(6, 2)) / total_outcomes\n",
    "\n",
    "# Probability of guessing at least 4 cups correctly (4, 5, or 6 correct)\n",
    "at_least_4_correct = correct_4 + correct_5 + correct_6\n",
    "\n",
    "# Output results\n",
    "correct_6, at_least_5_correct, at_least_4_correct\n"
   ]
  },
  {
   "cell_type": "markdown",
   "metadata": {},
   "source": [
    "---\n",
    "### Task 2: numpy's Normal Distribution\n",
    "In this task you will assess whether <code>numpy.random.normal()</code> properly generates normal values. To begin, generate a sample of one hundred thousand values using the function with mean <code>10.0</code> and standard deviation <code>3.0</code>.\n",
    "\n",
    "Use the <code>scipy.stats.shapiro()</code> function to test whether your sample came from a normal distribution. Explain the results and output.\n",
    "\n",
    "Plot a histogram of your values and plot the corresponding normal distribution probability density function on top of it."
   ]
  },
  {
   "cell_type": "code",
   "execution_count": null,
   "metadata": {},
   "outputs": [],
   "source": [
    "# Imprting library \n",
    "\n",
    "# Random selection \n",
    "# https://numpy.org/doc/stable/reference/?v=20241021203608\n",
    "import numpy as np\n",
    "\n",
    "# Building distributions\n",
    "# https://docs.scipy.org/doc/scipy/reference/stats.html\n",
    "import scipy.stats as stats\n",
    "\n",
    "# Plotting \n",
    "# https://matplotlib.org/3.5.3/api/_as_gen/matplotlib.pyplot.html\n",
    "import matplotlib.pyplot as plt"
   ]
  },
  {
   "cell_type": "code",
   "execution_count": null,
   "metadata": {},
   "outputs": [],
   "source": [
    "# Normal distribution\n",
    "mean = 10.0\n",
    "std_dev = 3.0\n",
    "sample_size = 100000"
   ]
  },
  {
   "cell_type": "code",
   "execution_count": null,
   "metadata": {},
   "outputs": [],
   "source": [
    "# Sample using numpy's normal function\n",
    "sample = np.random.normal(mean, std_dev, sample_size)"
   ]
  },
  {
   "cell_type": "code",
   "execution_count": null,
   "metadata": {},
   "outputs": [
    {
     "name": "stderr",
     "output_type": "stream",
     "text": [
      "/home/codespace/.local/lib/python3.12/site-packages/scipy/stats/_axis_nan_policy.py:573: UserWarning: scipy.stats.shapiro: For N > 5000, computed p-value may not be accurate. Current N is 100000.\n",
      "  res = hypotest_fun_out(*samples, **kwds)\n"
     ]
    }
   ],
   "source": [
    "# Creating Shapiro-Wilk test for normality\n",
    "# https://en.wikipedia.org/wiki/Shapiro%E2%80%93Wilk_test\n",
    "shapiro_test = stats.shapiro(sample)"
   ]
  },
  {
   "cell_type": "code",
   "execution_count": null,
   "metadata": {},
   "outputs": [
    {
     "name": "stdout",
     "output_type": "stream",
     "text": [
      "Shapiro-Wilk Test Statistic: 0.9999873661402134\n",
      "p-value: 0.9961861769313631\n"
     ]
    }
   ],
   "source": [
    "# Printing result \n",
    "print(f\"Shapiro-Wilk Test Statistic: {shapiro_test.statistic}\")\n",
    "print(f\"p-value: {shapiro_test.pvalue}\")"
   ]
  },
  {
   "cell_type": "code",
   "execution_count": null,
   "metadata": {},
   "outputs": [
    {
     "data": {
      "image/png": "[encoded data removed]",
      "text/plain": [
       "<Figure size 1000x600 with 1 Axes>"
      ]
     },
     "metadata": {},
     "output_type": "display_data"
    }
   ],
   "source": [
    "# Plot a histogram \n",
    "plt.figure(figsize=(10, 6))\n",
    "count, bins, _ = plt.hist(sample, bins=50, density=True, alpha=0.6, color='b')\n",
    "\n",
    "# Plot normal distribution \n",
    "pdf = stats.norm.pdf(bins, mean, std_dev)\n",
    "plt.plot(bins, pdf, 'r--', linewidth=2)\n",
    "\n",
    "# Adding labels and title\n",
    "plt.title(\"Histogram of Normal Distribution\")\n",
    "plt.xlabel(\"Value\")\n",
    "plt.ylabel(\"Density\")\n",
    "# Adding grid \n",
    "plt.grid()\n",
    "# Display the plot\n",
    "plt.show()"
   ]
  },
  {
   "cell_type": "markdown",
   "metadata": {},
   "source": [
    "p-value: 0.99999 — very high "
   ]
  },
  {
   "cell_type": "markdown",
   "metadata": {},
   "source": [
    "---\n",
    "#### Task 3: t-Test Calculation\n",
    "Consider the following dataset containing resting heart rates for patients before and after embarking on a two-week exercise program.\n",
    "\n",
    "Patient ID\t0\t1\t2\t3\t4\t5\t6\t7\t8\t9\n",
    "Before\t63\t68\t70\t64\t74\t67\t70\t57\t66\t65\n",
    "After\t64\t64\t68\t64\t73\t70\t72\t54\t61\t63\n",
    "\n",
    "Calculate the t-statistic based on this data set, using Python. Compare it to the value given by <code>scipy.stats</code>. Explain your work and list any sources used."
   ]
  },
  {
   "cell_type": "code",
   "execution_count": 5,
   "metadata": {},
   "outputs": [],
   "source": [
    "# Import libraries\n",
    "# https://numpy.org/doc/stable/reference/?v=20241021203608\n",
    "\n",
    "import numpy as np\n",
    "from scipy import stats\n",
    "\n",
    "# Import plotting\n",
    "import matplotlib.pyplot as plt\n",
    "\n",
    "# Statistical plots.\n",
    "import seaborn as sns\n",
    "\n",
    "# \n",
    "import pandas as pd"
   ]
  },
  {
   "cell_type": "markdown",
   "metadata": {},
   "source": [
    "#### Define the data for both \"before\" and \"after\" measurements"
   ]
  },
  {
   "cell_type": "code",
   "execution_count": 18,
   "metadata": {},
   "outputs": [
    {
     "data": {
      "text/html": [
       "<div>\n",
       "<style scoped>\n",
       "    .dataframe tbody tr th:only-of-type {\n",
       "        vertical-align: middle;\n",
       "    }\n",
       "\n",
       "    .dataframe tbody tr th {\n",
       "        vertical-align: top;\n",
       "    }\n",
       "\n",
       "    .dataframe thead th {\n",
       "        text-align: right;\n",
       "    }\n",
       "</style>\n",
       "<table border=\"1\" class=\"dataframe\">\n",
       "  <thead>\n",
       "    <tr style=\"text-align: right;\">\n",
       "      <th></th>\n",
       "      <th>patient_id</th>\n",
       "      <th>before</th>\n",
       "      <th>after</th>\n",
       "    </tr>\n",
       "  </thead>\n",
       "  <tbody>\n",
       "    <tr>\n",
       "      <th>0</th>\n",
       "      <td>0</td>\n",
       "      <td>63</td>\n",
       "      <td>64</td>\n",
       "    </tr>\n",
       "    <tr>\n",
       "      <th>1</th>\n",
       "      <td>1</td>\n",
       "      <td>68</td>\n",
       "      <td>64</td>\n",
       "    </tr>\n",
       "    <tr>\n",
       "      <th>2</th>\n",
       "      <td>2</td>\n",
       "      <td>70</td>\n",
       "      <td>68</td>\n",
       "    </tr>\n",
       "    <tr>\n",
       "      <th>3</th>\n",
       "      <td>3</td>\n",
       "      <td>64</td>\n",
       "      <td>64</td>\n",
       "    </tr>\n",
       "    <tr>\n",
       "      <th>4</th>\n",
       "      <td>4</td>\n",
       "      <td>74</td>\n",
       "      <td>73</td>\n",
       "    </tr>\n",
       "    <tr>\n",
       "      <th>5</th>\n",
       "      <td>5</td>\n",
       "      <td>67</td>\n",
       "      <td>70</td>\n",
       "    </tr>\n",
       "    <tr>\n",
       "      <th>6</th>\n",
       "      <td>6</td>\n",
       "      <td>70</td>\n",
       "      <td>72</td>\n",
       "    </tr>\n",
       "    <tr>\n",
       "      <th>7</th>\n",
       "      <td>7</td>\n",
       "      <td>57</td>\n",
       "      <td>54</td>\n",
       "    </tr>\n",
       "    <tr>\n",
       "      <th>8</th>\n",
       "      <td>8</td>\n",
       "      <td>66</td>\n",
       "      <td>61</td>\n",
       "    </tr>\n",
       "    <tr>\n",
       "      <th>9</th>\n",
       "      <td>9</td>\n",
       "      <td>65</td>\n",
       "      <td>63</td>\n",
       "    </tr>\n",
       "  </tbody>\n",
       "</table>\n",
       "</div>"
      ],
      "text/plain": [
       "   patient_id  before  after\n",
       "0           0      63     64\n",
       "1           1      68     64\n",
       "2           2      70     68\n",
       "3           3      64     64\n",
       "4           4      74     73\n",
       "5           5      67     70\n",
       "6           6      70     72\n",
       "7           7      57     54\n",
       "8           8      66     61\n",
       "9           9      65     63"
      ]
     },
     "execution_count": 18,
     "metadata": {},
     "output_type": "execute_result"
    }
   ],
   "source": [
    "# Cratete data frame \n",
    "data = {'patient_id': [ 0, 1, 2, 3, 4, 5, 6, 7, 8, 9], 'before':[ 63, 68, 70, 64, 74, 67, 70, 57, 66, 65],\n",
    "        'after': [64, 64, 68, 64, 73, 70, 72, 54, 61, 63]}\n",
    "\n",
    "df = pd.DataFrame(data)    \n",
    "\n",
    "df"
   ]
  },
  {
   "cell_type": "code",
   "execution_count": 20,
   "metadata": {},
   "outputs": [
    {
     "name": "stdout",
     "output_type": "stream",
     "text": [
      "<class 'pandas.core.frame.DataFrame'>\n",
      "RangeIndex: 10 entries, 0 to 9\n",
      "Data columns (total 3 columns):\n",
      " #   Column      Non-Null Count  Dtype\n",
      "---  ------      --------------  -----\n",
      " 0   patient_id  10 non-null     int64\n",
      " 1   before      10 non-null     int64\n",
      " 2   after       10 non-null     int64\n",
      "dtypes: int64(3)\n",
      "memory usage: 372.0 bytes\n"
     ]
    }
   ],
   "source": [
    "# Display information about the dataset. \n",
    "df.info()"
   ]
  },
  {
   "cell_type": "code",
   "execution_count": 21,
   "metadata": {},
   "outputs": [
    {
     "data": {
      "text/html": [
       "<div>\n",
       "<style scoped>\n",
       "    .dataframe tbody tr th:only-of-type {\n",
       "        vertical-align: middle;\n",
       "    }\n",
       "\n",
       "    .dataframe tbody tr th {\n",
       "        vertical-align: top;\n",
       "    }\n",
       "\n",
       "    .dataframe thead th {\n",
       "        text-align: right;\n",
       "    }\n",
       "</style>\n",
       "<table border=\"1\" class=\"dataframe\">\n",
       "  <thead>\n",
       "    <tr style=\"text-align: right;\">\n",
       "      <th></th>\n",
       "      <th>patient_id</th>\n",
       "      <th>before</th>\n",
       "      <th>after</th>\n",
       "    </tr>\n",
       "  </thead>\n",
       "  <tbody>\n",
       "    <tr>\n",
       "      <th>count</th>\n",
       "      <td>10.00000</td>\n",
       "      <td>10.00000</td>\n",
       "      <td>10.000000</td>\n",
       "    </tr>\n",
       "    <tr>\n",
       "      <th>mean</th>\n",
       "      <td>4.50000</td>\n",
       "      <td>66.40000</td>\n",
       "      <td>65.300000</td>\n",
       "    </tr>\n",
       "    <tr>\n",
       "      <th>std</th>\n",
       "      <td>3.02765</td>\n",
       "      <td>4.64758</td>\n",
       "      <td>5.677441</td>\n",
       "    </tr>\n",
       "    <tr>\n",
       "      <th>min</th>\n",
       "      <td>0.00000</td>\n",
       "      <td>57.00000</td>\n",
       "      <td>54.000000</td>\n",
       "    </tr>\n",
       "    <tr>\n",
       "      <th>25%</th>\n",
       "      <td>2.25000</td>\n",
       "      <td>64.25000</td>\n",
       "      <td>63.250000</td>\n",
       "    </tr>\n",
       "    <tr>\n",
       "      <th>50%</th>\n",
       "      <td>4.50000</td>\n",
       "      <td>66.50000</td>\n",
       "      <td>64.000000</td>\n",
       "    </tr>\n",
       "    <tr>\n",
       "      <th>75%</th>\n",
       "      <td>6.75000</td>\n",
       "      <td>69.50000</td>\n",
       "      <td>69.500000</td>\n",
       "    </tr>\n",
       "    <tr>\n",
       "      <th>max</th>\n",
       "      <td>9.00000</td>\n",
       "      <td>74.00000</td>\n",
       "      <td>73.000000</td>\n",
       "    </tr>\n",
       "  </tbody>\n",
       "</table>\n",
       "</div>"
      ],
      "text/plain": [
       "       patient_id    before      after\n",
       "count    10.00000  10.00000  10.000000\n",
       "mean      4.50000  66.40000  65.300000\n",
       "std       3.02765   4.64758   5.677441\n",
       "min       0.00000  57.00000  54.000000\n",
       "25%       2.25000  64.25000  63.250000\n",
       "50%       4.50000  66.50000  64.000000\n",
       "75%       6.75000  69.50000  69.500000\n",
       "max       9.00000  74.00000  73.000000"
      ]
     },
     "execution_count": 21,
     "metadata": {},
     "output_type": "execute_result"
    }
   ],
   "source": [
    "# Printing summary of dataset.\n",
    "df.describe()"
   ]
  },
  {
   "cell_type": "code",
   "execution_count": null,
   "metadata": {},
   "outputs": [
    {
     "data": {
      "image/png": "[encoded data removed]",
      "text/plain": [
       "<Figure size 1400x600 with 2 Axes>"
      ]
     },
     "metadata": {},
     "output_type": "display_data"
    }
   ],
   "source": [
    "# Plot histograms.\n",
    "fig, axs = plt.subplots(1, 2, figsize=(14, 6), sharey=True)\n",
    "\n",
    "# Histogram for 'before'.\n",
    "sns.histplot(df['before'], bins=8, kde=False, color='skyblue', ax=axs[0])\n",
    "axs[0].set_title('Distribution of Heart Rate Result (Before)', fontsize=14)\n",
    "axs[0].set_xlabel('Heart Rate', fontsize=12)\n",
    "axs[0].set_ylabel('Frequency', fontsize=12)\n",
    "axs[0].grid(alpha=0.3)\n",
    "\n",
    "# Histogram for 'after'.\n",
    "sns.histplot(df['after'], bins=8, kde=False, color='lightpink', ax=axs[1])\n",
    "axs[1].set_title('Distribution of Heart Rate Result (After)', fontsize=14)\n",
    "axs[1].set_xlabel('Heart Rate', fontsize=12)\n",
    "axs[1].grid(alpha=0.3)\n",
    "\n",
    "# Adjust layout.\n",
    "plt.tight_layout()\n",
    "\n",
    "# Add grid.\n",
    "plt.grid\n",
    "\n",
    "# Show the plots.\n",
    "plt.show()"
   ]
  },
  {
   "cell_type": "code",
   "execution_count": null,
   "metadata": {},
   "outputs": [],
   "source": [
    "# Resting heart rates before and after on two-week exercise program.\n",
    "before = np.array([63, 68, 70, 64, 74, 67, 70, 57, 66, 65])\n",
    "after = np.array([64, 64, 68, 64, 73, 70, 72, 54, 61, 63])\n",
    "\n",
    "# Calculateting the differences.\n",
    "differences = before - after"
   ]
  },
  {
   "cell_type": "code",
   "execution_count": null,
   "metadata": {},
   "outputs": [],
   "source": [
    "# Calcutateing mean.\n",
    "# https://en.wikipedia.org/wiki/Mean\n",
    "mean_diff = np.mean(differences)\n"
   ]
  },
  {
   "cell_type": "code",
   "execution_count": null,
   "metadata": {},
   "outputs": [],
   "source": [
    "# Standard deviation of the differences.\n",
    "# https://numpy.org/doc/stable/reference/generated/numpy.std.html\n",
    "\n",
    "std_diff = np.std(differences, ddof=1)"
   ]
  },
  {
   "cell_type": "code",
   "execution_count": null,
   "metadata": {},
   "outputs": [],
   "source": [
    "#Calculate the sample size. \n",
    "#https://datagy.io/python-confidence-intervals/\n",
    "n = len(differences)\n"
   ]
  },
  {
   "cell_type": "markdown",
   "metadata": {},
   "source": []
  },
  {
   "cell_type": "code",
   "execution_count": 17,
   "metadata": {},
   "outputs": [
    {
     "data": {
      "image/png": "[encoded data removed]",
      "text/plain": [
       "<Figure size 640x480 with 1 Axes>"
      ]
     },
     "metadata": {},
     "output_type": "display_data"
    }
   ],
   "source": [
    "# Box plot.\n",
    "sns.boxplot(data=[before, after],  palette=[\"skyblue\", \"lightpink\"]);\n",
    "\n",
    "# Add title.\n",
    "plt.title('Box Plot of Heart Rates Before and After Exercise')\n",
    "\n",
    "# Add lable.\n",
    "plt.ylabel('Heart Rate (bpm)')\n",
    "plt.xticks([0, 1], ['Before Exercise', 'After Exercise'])\n",
    "\n",
    "# Add grid.\n",
    "plt.grid(True)\n",
    "\n",
    "# Show. \n",
    "plt.show()"
   ]
  },
  {
   "cell_type": "markdown",
   "metadata": {},
   "source": [
    "#### $t$-Test \n",
    "\n"
   ]
  },
  {
   "cell_type": "code",
   "execution_count": null,
   "metadata": {},
   "outputs": [
    {
     "data": {
      "text/plain": [
       "TtestResult(statistic=np.float64(0.4740968275126808), pvalue=np.float64(0.6411310132871086), df=np.float64(18.0))"
      ]
     },
     "execution_count": 38,
     "metadata": {},
     "output_type": "execute_result"
    }
   ],
   "source": [
    "# Perform a t-test.\n",
    "stats.ttest_ind(before, after)"
   ]
  },
  {
   "cell_type": "markdown",
   "metadata": {},
   "source": [
    "##### The $t$-statistic of 0.474 suggests that the difference between groups before and  gropu after is quite small"
   ]
  },
  {
   "cell_type": "code",
   "execution_count": null,
   "metadata": {},
   "outputs": [],
   "source": [
    "\n",
    "# Calculate the t-statistic. \n",
    "# https://www.datacamp.com/tutorial/an-introduction-to-python-t-tests\n",
    "t_statistic = mean_diff / (std_diff / np.sqrt(n))"
   ]
  },
  {
   "cell_type": "markdown",
   "metadata": {},
   "source": []
  },
  {
   "cell_type": "markdown",
   "metadata": {},
   "source": [
    "#### Results of the calculations"
   ]
  },
  {
   "cell_type": "code",
   "execution_count": null,
   "metadata": {},
   "outputs": [
    {
     "name": "stdout",
     "output_type": "stream",
     "text": [
      "t-statistic: 1.3372274824806283\n",
      "p-value: 0.21396011317404623\n"
     ]
    }
   ],
   "source": [
    "\n",
    "# Printing results for t-statistic.\n",
    "print(\"t-statistic:\", t_statistic)\n",
    "\n",
    "# Printing results for p-alue.\n",
    "print(\"p-value:\", p_value)\n"
   ]
  },
  {
   "cell_type": "code",
   "execution_count": null,
   "metadata": {},
   "outputs": [],
   "source": []
  },
  {
   "cell_type": "markdown",
   "metadata": {},
   "source": [
    "---\n",
    "#### Task 4: ANOVA\n",
    "In this test we will estimate the probability of committing a type II error in specific circumstances. To begin, create a variable called no_type_ii and set it to 0.\n",
    "\n",
    "Now use a loop to perform the following test 10,000 times.\n",
    "\n",
    "1. Use numpy.random.normal to generate three samples with 100 values each. Give each a standard deviation of <code>0.1</code>. Give the first sample a mean of <code>4.9</code>, the second a mean of <code>5.0</code>, and the third a mean of <code>5.1</code>.\n",
    "\n",
    "2. Perform one-way anova on the three samples and add <code>1<code> to <code>no_type_ii</code> whenever a type II error occurs.\n",
    "\n",
    "Summarize and explain your results."
   ]
  },
  {
   "cell_type": "markdown",
   "metadata": {},
   "source": []
  },
  {
   "cell_type": "code",
   "execution_count": 2,
   "metadata": {},
   "outputs": [],
   "source": [
    "# Import libraries.\n",
    "import numpy as np\n",
    "from scipy.stats import f_oneway\n",
    "\n",
    "# Plotting. \n",
    "import matplotlib as plt\n",
    "\n",
    "# Statistic function. \n",
    "import scipy.stats as stats\n",
    "\n",
    "import numpy as np\n",
    "import matplotlib.pyplot as plt"
   ]
  },
  {
   "cell_type": "code",
   "execution_count": 3,
   "metadata": {},
   "outputs": [],
   "source": [
    "# First sample.\n",
    "sample_1 = np.random.normal(loc=4.9, scale=0.1, size=100)\n",
    "\n",
    "# Second sample. \n",
    "sample_2 = np.random.normal(loc=5.0, scale=0.1, size=100)\n",
    "\n",
    "# Third sample.\n",
    "sample_3 = np.random.normal(loc=5.1, scale=0.1, size=100)"
   ]
  },
  {
   "cell_type": "markdown",
   "metadata": {},
   "source": [
    "### Histogram"
   ]
  },
  {
   "cell_type": "code",
   "execution_count": 4,
   "metadata": {},
   "outputs": [
    {
     "data": {
      "image/png": "[encoded data removed]",
      "text/plain": [
       "<Figure size 1000x500 with 1 Axes>"
      ]
     },
     "metadata": {},
     "output_type": "display_data"
    }
   ],
   "source": [
    "# Create the histogram.\n",
    "fig, ax = plt.subplots(figsize=(10, 5))\n",
    "\n",
    "# Histogram of the first sample.\n",
    "ax.hist(sample_1, bins=15, alpha=0.6, label='Sample 1', color='skyblue')\n",
    "\n",
    "# Histogram of the second sample.\n",
    "ax.hist(sample_2, bins=15, alpha=0.6, label='Sample 2', color='lightgreen')\n",
    "\n",
    "# Histogram of the third sample.\n",
    "ax.hist(sample_3, bins=15, alpha=0.6, label='Sample 3', color='lightpink')\n",
    "\n",
    "# Add title.\n",
    "ax.set_title('Histogram of Samples 1, 2, and 3', fontsize=16, fontweight='bold')\n",
    "\n",
    "# Add legend.\n",
    "ax.legend(loc='upper right', fontsize=12)\n",
    "\n",
    "plt.tight_layout()"
   ]
  },
  {
   "cell_type": "code",
   "execution_count": 5,
   "metadata": {},
   "outputs": [
    {
     "data": {
      "text/plain": [
       "(np.float64(-5.997371271680341), np.float64(9.36966031569107e-09))"
      ]
     },
     "execution_count": 5,
     "metadata": {},
     "output_type": "execute_result"
    }
   ],
   "source": [
    "# t-test on sample_1 and sample_2.\n",
    "t_statistic, p_value = stats.ttest_ind(sample_1, sample_2)\n",
    "\n",
    "\n",
    "t_statistic, p_value"
   ]
  },
  {
   "cell_type": "code",
   "execution_count": 6,
   "metadata": {},
   "outputs": [
    {
     "data": {
      "text/plain": [
       "(np.float64(-13.687094851789547), np.float64(1.9014019701347473e-30))"
      ]
     },
     "execution_count": 6,
     "metadata": {},
     "output_type": "execute_result"
    }
   ],
   "source": [
    "# t-test on sample_1 and sample_3.\n",
    "t_statistic, p_value = stats.ttest_ind(sample_1, sample_3)\n",
    "\n",
    "\n",
    "t_statistic, p_value"
   ]
  },
  {
   "cell_type": "code",
   "execution_count": 7,
   "metadata": {},
   "outputs": [
    {
     "data": {
      "text/plain": [
       "(np.float64(-5.997371271680341), np.float64(9.36966031569107e-09))"
      ]
     },
     "execution_count": 7,
     "metadata": {},
     "output_type": "execute_result"
    }
   ],
   "source": [
    "# t-test on sample_1 and sample_2.\n",
    "t_statistic, p_value = stats.ttest_ind(sample_1, sample_2)\n",
    "\n",
    "\n",
    "t_statistic, p_value"
   ]
  },
  {
   "cell_type": "code",
   "execution_count": 8,
   "metadata": {},
   "outputs": [
    {
     "data": {
      "text/plain": [
       "(np.float64(6.789899151711655), np.float64(1.277229034333645e-10))"
      ]
     },
     "execution_count": 8,
     "metadata": {},
     "output_type": "execute_result"
    }
   ],
   "source": [
    "# t-test on sample_3 and sample_2.\n",
    "t_statistic, p_value = stats.ttest_ind(sample_3, sample_2)\n",
    "\n",
    "\n",
    "t_statistic, p_value"
   ]
  },
  {
   "cell_type": "markdown",
   "metadata": {},
   "source": [
    "$s$-Sample"
   ]
  },
  {
   "cell_type": "code",
   "execution_count": 9,
   "metadata": {},
   "outputs": [],
   "source": [
    "# Number of samples.\n",
    "n = 10000"
   ]
  },
  {
   "cell_type": "code",
   "execution_count": 13,
   "metadata": {},
   "outputs": [
    {
     "name": "stdout",
     "output_type": "stream",
     "text": [
      "[0, 1, 2, 3, 4, 5, 6, 7, 8, 9, 10, 11, 12, 13, 14, 15, 16, 17, 18, 19, 20, 21, 22, 23, 24, 25, 26, 27, 28, 29, 30, 31, 32, 33, 34, 35, 36, 37, 38, 39, 40, 41, 42, 43, 44, 45, 46, 47, 48, 49, 50, 51, 52, 53, 54, 55, 56, 57, 58, 59, 60, 61, 62, 63, 64, 65, 66, 67, 68, 69, 70, 71, 72, 73, 74, 75, 76, 77, 78, 79, 80, 81, 82, 83, 84, 85, 86, 87, 88, 89, 90, 91, 92, 93, 94, 95, 96, 97, 98, 99, 100, 101, 102, 103, 104, 105, 106, 107, 108, 109, 110, 111, 112, 113, 114, 115, 116, 117, 118, 119, 120, 121, 122, 123, 124, 125, 126, 127, 128, 129, 130, 131, 132, 133, 134, 135, 136, 137, 138, 139, 140, 141, 142, 143, 144, 145, 146, 147, 148, 149, 150, 151, 152, 153, 154, 155, 156, 157, 158, 159, 160, 161, 162, 163, 164, 165, 166, 167, 168, 169, 170, 171, 172, 173, 174, 175, 176, 177, 178, 179, 180, 181, 182, 183, 184, 185, 186, 187, 188, 189, 190, 191, 192, 193, 194, 195, 196, 197, 198, 199, 200, 201, 202, 203, 204, 205, 206, 207, 208, 209, 210, 211, 212, 213, 214, 215, 216, 217, 218, 219, 220, 221, 222, 223, 224, 225, 226, 227, 228, 229, 230, 231, 232, 233, 234, 235, 236, 237, 238, 239, 240, 241, 242, 243, 244, 245, 246, 247, 248, 249, 250, 251, 252, 253, 254, 255, 256, 257, 258, 259, 260, 261, 262, 263, 264, 265, 266, 267, 268, 269, 270, 271, 272, 273, 274, 275, 276, 277, 278, 279, 280, 281, 282, 283, 284, 285, 286, 287, 288, 289, 290, 291, 292, 293, 294, 295, 296, 297, 298, 299, 300, 301, 302, 303, 304, 305, 306, 307, 308, 309, 310, 311, 312, 313, 314, 315, 316, 317, 318, 319, 320, 321, 322, 323, 324, 325, 326, 327, 328, 329, 330, 331, 332, 333, 334, 335, 336, 337, 338, 339, 340, 341, 342, 343, 344, 345, 346, 347, 348, 349, 350, 351, 352, 353, 354, 355, 356, 357, 358, 359, 360, 361, 362, 363, 364, 365, 366, 367, 368, 369, 370, 371, 372, 373, 374, 375, 376, 377, 378, 379, 380, 381, 382, 383, 384, 385, 386, 387, 388, 389, 390, 391, 392, 393, 394, 395, 396, 397, 398, 399, 400, 401, 402, 403, 404, 405, 406, 407, 408, 409, 410, 411, 412, 413, 414, 415, 416, 417, 418, 419, 420, 421, 422, 423, 424, 425, 426, 427, 428, 429, 430, 431, 432, 433, 434, 435, 436, 437, 438, 439, 440, 441, 442, 443, 444, 445, 446, 447, 448, 449, 450, 451, 452, 453, 454, 455, 456, 457, 458, 459, 460, 461, 462, 463, 464, 465, 466, 467, 468, 469, 470, 471, 472, 473, 474, 475, 476, 477, 478, 479, 480, 481, 482, 483, 484, 485, 486, 487, 488, 489, 490, 491, 492, 493, 494, 495, 496, 497, 498, 499, 500, 501, 502, 503, 504, 505, 506, 507, 508, 509, 510, 511, 512, 513, 514, 515, 516, 517, 518, 519, 520, 521, 522, 523, 524, 525, 526, 527, 528, 529, 530, 531, 532, 533, 534, 535, 536, 537, 538, 539, 540, 541, 542, 543, 544, 545, 546, 547, 548, 549, 550, 551, 552, 553, 554, 555, 556, 557, 558, 559, 560, 561, 562, 563, 564, 565, 566, 567, 568, 569, 570, 571, 572, 573, 574, 575, 576, 577, 578, 579, 580, 581, 582, 583, 584, 585, 586, 587, 588, 589, 590, 591, 592, 593, 594, 595, 596, 597, 598, 599, 600, 601, 602, 603, 604, 605, 606, 607, 608, 609, 610, 611, 612, 613, 614, 615, 616, 617, 618, 619, 620, 621, 622, 623, 624, 625, 626, 627, 628, 629, 630, 631, 632, 633, 634, 635, 636, 637, 638, 639, 640, 641, 642, 643, 644, 645, 646, 647, 648, 649, 650, 651, 652, 653, 654, 655, 656, 657, 658, 659, 660, 661, 662, 663, 664, 665, 666, 667, 668, 669, 670, 671, 672, 673, 674, 675, 676, 677, 678, 679, 680, 681, 682, 683, 684, 685, 686, 687, 688, 689, 690, 691, 692, 693, 694, 695, 696, 697, 698, 699, 700, 701, 702, 703, 704, 705, 706, 707, 708, 709, 710, 711, 712, 713, 714, 715, 716, 717, 718, 719, 720, 721, 722, 723, 724, 725, 726, 727, 728, 729, 730, 731, 732, 733, 734, 735, 736, 737, 738, 739, 740, 741, 742, 743, 744, 745, 746, 747, 748, 749, 750, 751, 752, 753, 754, 755, 756, 757, 758, 759, 760, 761, 762, 763, 764, 765, 766, 767, 768, 769, 770, 771, 772, 773, 774, 775, 776, 777, 778, 779, 780, 781, 782, 783, 784, 785, 786, 787, 788, 789, 790, 791, 792, 793, 794, 795, 796, 797, 798, 799, 800, 801, 802, 803, 804, 805, 806, 807, 808, 809, 810, 811, 812, 813, 814, 815, 816, 817, 818, 819, 820, 821, 822, 823, 824, 825, 826, 827, 828, 829, 830, 831, 832, 833, 834, 835, 836, 837, 838, 839, 840, 841, 842, 843, 844, 845, 846, 847, 848, 849, 850, 851, 852, 853, 854, 855, 856, 857, 858, 859, 860, 861, 862, 863, 864, 865, 866, 867, 868, 869, 870, 871, 872, 873, 874, 875, 876, 877, 878, 879, 880, 881, 882, 883, 884, 885, 886, 887, 888, 889, 890, 891, 892, 893, 894, 895, 896, 897, 898, 899, 900, 901, 902, 903, 904, 905, 906, 907, 908, 909, 910, 911, 912, 913, 914, 915, 916, 917, 918, 919, 920, 921, 922, 923, 924, 925, 926, 927, 928, 929, 930, 931, 932, 933, 934, 935, 936, 937, 938, 939, 940, 941, 942, 943, 944, 945, 946, 947, 948, 949, 950, 951, 952, 953, 954, 955, 956, 957, 958, 959, 960, 961, 962, 963, 964, 965, 966, 967, 968, 969, 970, 971, 972, 973, 974, 975, 976, 977, 978, 979, 980, 981, 982, 983, 984, 985, 986, 987, 988, 989, 990, 991, 992, 993, 994, 995, 996, 997, 998, 999]\n"
     ]
    }
   ],
   "source": [
    "# Show the sample labels.\n",
    "print(list(range(1000)))"
   ]
  },
  {
   "cell_type": "code",
   "execution_count": 14,
   "metadata": {},
   "outputs": [],
   "source": [
    "# Create variable \n",
    "no_type_ii = 0 "
   ]
  },
  {
   "cell_type": "code",
   "execution_count": 20,
   "metadata": {},
   "outputs": [],
   "source": [
    "# Run several simulations.\n",
    "for _ in range(n):\n",
    "    sample_1 = np.random.normal(loc=4.9, scale=0.1, size =100)\n",
    "    sample_2 = np.random.normal(loc=5.0, scale=0.1, size =100)\n",
    "    sample_3 = np.random.normal(loc=5.1, scale=0.1, size =100)"
   ]
  },
  {
   "cell_type": "code",
   "execution_count": 26,
   "metadata": {},
   "outputs": [
    {
     "data": {
      "text/plain": [
       "(np.float64(108.19713125261144), np.float64(5.039153774528618e-36))"
      ]
     },
     "execution_count": 26,
     "metadata": {},
     "output_type": "execute_result"
    }
   ],
   "source": [
    "# Perform ANOVA.    \n",
    "t_statistit, p_value = stats.f_oneway(sample_1, sample_2, sample_3)\n",
    "\n",
    "# Show.\n",
    "t_statistit, p_value\n"
   ]
  },
  {
   "cell_type": "code",
   "execution_count": null,
   "metadata": {},
   "outputs": [],
   "source": [
    "# https://docs.scipy.org/doc/scipy/reference/generated/scipy.stats.f_oneway.html\n",
    "# https://www.datacamp.com/tutorial/anova-test\n",
    "# https://www.scribbr.com/statistics/type-i-and-type-ii-errors/\n",
    "# https://www.youtube.com/watch?v=EWYzeZbchR0"
   ]
  },
  {
   "cell_type": "markdown",
   "metadata": {},
   "source": [
    "End "
   ]
  }
 ],
 "metadata": {
  "kernelspec": {
   "display_name": "Python 3",
   "language": "python",
   "name": "python3"
  },
  "language_info": {
   "codemirror_mode": {
    "name": "ipython",
    "version": 3
   },
   "file_extension": ".py",
   "mimetype": "text/x-python",
   "name": "python",
   "nbconvert_exporter": "python",
   "pygments_lexer": "ipython3",
   "version": "3.12.1"
  }
 },
 "nbformat": 4,
 "nbformat_minor": 2
}

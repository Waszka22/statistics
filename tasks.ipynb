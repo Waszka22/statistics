{
 "cells": [
  {
   "cell_type": "markdown",
   "metadata": {},
   "source": [
    "---\n",
    "Assessment Repository\n",
    "\n",
    "Task Assessment for Applied Statistics module on Higher Diploma in Science in Computing in Data Analytics at ATU.\n",
    "\n",
    "Submitted by: Agnieszka Waszczuk Lecturer: Ian McLoughlin\n",
    "\n",
    "---"
   ]
  },
  {
   "cell_type": "markdown",
   "metadata": {},
   "source": [
    "\n",
    "\n",
    "### Task 1: Permutations and Combinations\n",
    "Suppose we alter the Lady Tasting Tea experiment to involve twelve cups of tea. Six have the milk in first and the other six having tea in first. A person claims they have the special power of being able to tell whether the tea or the milk went into a cup first upon tasting it. You agree to accept their claim if they can tell which of the six cups in your experiment had the milk in first.\n",
    "\n",
    "Calculate, using Python, the probability that they select the correct six cups. Here you should assume that they have no special powers in figuring it out, that they are just guessing. Remember to show and justify your workings in code and MarkDown cells.\n",
    "\n",
    "Suppose, now, you are willing to accept one error. Once they select the six cups they think had the milk in first, you will give them the benefit of the doubt should they have selected at least five of the correct cups. Calculate the probability, assuming they have no special powers, that the person makes at most one error.\n",
    "\n",
    "Would you accept two errors? Explain."
   ]
  },
  {
   "cell_type": "code",
   "execution_count": 39,
   "metadata": {},
   "outputs": [],
   "source": [
    "# Importing \n",
    "import math\n",
    "import pandas as pd\n",
    "import os\n",
    "import numpy as np"
   ]
  },
  {
   "cell_type": "code",
   "execution_count": 40,
   "metadata": {},
   "outputs": [],
   "source": [
    "## Creating cups list represents a sequence of integers starting from 0 and ending at 6\n",
    "cups = [0, 1, 2, 3, 4, 5, 6]"
   ]
  },
  {
   "cell_type": "code",
   "execution_count": 41,
   "metadata": {},
   "outputs": [
    {
     "data": {
      "text/plain": [
       "70.0"
      ]
     },
     "execution_count": 41,
     "metadata": {},
     "output_type": "execute_result"
    }
   ],
   "source": [
    "pnum = (8*7*6*5)/(4*3*2*1)\n",
    "pnum"
   ]
  },
  {
   "cell_type": "code",
   "execution_count": 42,
   "metadata": {},
   "outputs": [
    {
     "name": "stdout",
     "output_type": "stream",
     "text": [
      "The probability to select exactly the correct 4 out of 8 cups =  0.014285714285714285 %\n"
     ]
    }
   ],
   "source": [
    "prob = (1/70)\n",
    "print(\"The probability to select exactly the correct 4 out of 8 cups = \", prob, '%')"
   ]
  },
  {
   "cell_type": "code",
   "execution_count": 43,
   "metadata": {},
   "outputs": [
    {
     "ename": "TypeError",
     "evalue": "'list' object cannot be interpreted as an integer",
     "output_type": "error",
     "traceback": [
      "\u001b[0;31m---------------------------------------------------------------------------\u001b[0m",
      "\u001b[0;31mTypeError\u001b[0m                                 Traceback (most recent call last)",
      "Cell \u001b[0;32mIn[43], line 2\u001b[0m\n\u001b[1;32m      1\u001b[0m \u001b[38;5;66;03m# The cup labels\u001b[39;00m\n\u001b[0;32m----> 2\u001b[0m labels \u001b[38;5;241m=\u001b[39m \u001b[38;5;28mlist\u001b[39m(\u001b[38;5;28;43mrange\u001b[39;49m\u001b[43m(\u001b[49m\u001b[43mcups\u001b[49m\u001b[43m)\u001b[49m)\n\u001b[1;32m      4\u001b[0m \u001b[38;5;66;03m# Show\u001b[39;00m\n\u001b[1;32m      5\u001b[0m labels\n",
      "\u001b[0;31mTypeError\u001b[0m: 'list' object cannot be interpreted as an integer"
     ]
    }
   ],
   "source": [
    "# The cup labels\n",
    "labels = list(range(cups))\n",
    "\n",
    "# Show\n",
    "labels"
   ]
  },
  {
   "cell_type": "code",
   "execution_count": null,
   "metadata": {},
   "outputs": [
    {
     "data": {
      "text/plain": [
       "(0.0010822510822510823, 0.04004329004329004, 0.28354978354978355)"
      ]
     },
     "execution_count": 5,
     "metadata": {},
     "output_type": "execute_result"
    }
   ],
   "source": [
    "# Function to calculate combinations (n choose k)\n",
    "def comb(n, k):\n",
    "    return math.comb(n, k)\n",
    "\n",
    "# Total number of ways to choose 6 cups out of 12\n",
    "total_outcomes = comb(12, 6)\n",
    "\n",
    "# Probability of guessing all 6 cups correctly\n",
    "correct_6 = 1 / total_outcomes\n",
    "\n",
    "# Probability of guessing exactly 5 cups correctly (5 correct, 1 incorrect)\n",
    "correct_5 = (comb(6, 5) * comb(6, 1)) / total_outcomes\n",
    "\n",
    "# Probability of guessing at least 5 cups correctly (5 or 6 correct)\n",
    "at_least_5_correct = correct_5 + correct_6\n",
    "\n",
    "# Probability of guessing exactly 4 cups correctly (4 correct, 2 incorrect)\n",
    "correct_4 = (comb(6, 4) * comb(6, 2)) / total_outcomes\n",
    "\n",
    "# Probability of guessing at least 4 cups correctly (4, 5, or 6 correct)\n",
    "at_least_4_correct = correct_4 + correct_5 + correct_6\n",
    "\n",
    "# Output results\n",
    "correct_6, at_least_5_correct, at_least_4_correct\n"
   ]
  },
  {
   "cell_type": "markdown",
   "metadata": {},
   "source": [
    "---\n",
    "### Task 2: numpy's Normal Distribution\n",
    "In this task you will assess whether numpy.random.normal() properly generates normal values. To begin, generate a sample of one hundred thousand values using the function with mean 10.0 and standard deviation 3.0.\n",
    "\n",
    "Use the scipy.stats.shapiro() function to test whether your sample came from a normal distribution. Explain the results and output.\n",
    "\n",
    "Plot a histogram of your values and plot the corresponding normal distribution probability density function on top of it."
   ]
  },
  {
   "cell_type": "code",
   "execution_count": null,
   "metadata": {},
   "outputs": [],
   "source": [
    "# Imprting library \n",
    "\n",
    "# Random selection \n",
    "# https://numpy.org/doc/stable/reference/?v=20241021203608\n",
    "import numpy as np\n",
    "\n",
    "# Building distributions\n",
    "# https://docs.scipy.org/doc/scipy/reference/stats.html\n",
    "import scipy.stats as stats\n",
    "\n",
    "# Plotting \n",
    "# https://matplotlib.org/3.5.3/api/_as_gen/matplotlib.pyplot.html\n",
    "import matplotlib.pyplot as plt"
   ]
  },
  {
   "cell_type": "code",
   "execution_count": null,
   "metadata": {},
   "outputs": [],
   "source": [
    "# Normal distribution\n",
    "mean = 10.0\n",
    "std_dev = 3.0\n",
    "sample_size = 100000"
   ]
  },
  {
   "cell_type": "code",
   "execution_count": null,
   "metadata": {},
   "outputs": [],
   "source": [
    "# Sample using numpy's normal function\n",
    "sample = np.random.normal(mean, std_dev, sample_size)"
   ]
  },
  {
   "cell_type": "code",
   "execution_count": null,
   "metadata": {},
   "outputs": [
    {
     "name": "stderr",
     "output_type": "stream",
     "text": [
      "/home/codespace/.local/lib/python3.12/site-packages/scipy/stats/_axis_nan_policy.py:573: UserWarning: scipy.stats.shapiro: For N > 5000, computed p-value may not be accurate. Current N is 100000.\n",
      "  res = hypotest_fun_out(*samples, **kwds)\n"
     ]
    }
   ],
   "source": [
    "# Creating Shapiro-Wilk test for normality\n",
    "# https://en.wikipedia.org/wiki/Shapiro%E2%80%93Wilk_test\n",
    "shapiro_test = stats.shapiro(sample)"
   ]
  },
  {
   "cell_type": "code",
   "execution_count": null,
   "metadata": {},
   "outputs": [
    {
     "name": "stdout",
     "output_type": "stream",
     "text": [
      "Shapiro-Wilk Test Statistic: 0.9999873661402134\n",
      "p-value: 0.9961861769313631\n"
     ]
    }
   ],
   "source": [
    "# Printing result \n",
    "print(f\"Shapiro-Wilk Test Statistic: {shapiro_test.statistic}\")\n",
    "print(f\"p-value: {shapiro_test.pvalue}\")"
   ]
  },
  {
   "cell_type": "code",
   "execution_count": null,
   "metadata": {},
   "outputs": [
    {
     "data": {
      "image/png": "[encoded data removed]",
      "text/plain": [
       "<Figure size 1000x600 with 1 Axes>"
      ]
     },
     "metadata": {},
     "output_type": "display_data"
    }
   ],
   "source": [
    "# Plot a histogram \n",
    "plt.figure(figsize=(10, 6))\n",
    "count, bins, _ = plt.hist(sample, bins=50, density=True, alpha=0.6, color='b')\n",
    "\n",
    "# Plot normal distribution \n",
    "pdf = stats.norm.pdf(bins, mean, std_dev)\n",
    "plt.plot(bins, pdf, 'r--', linewidth=2)\n",
    "\n",
    "# Adding labels and title\n",
    "plt.title(\"Histogram of Normal Distribution\")\n",
    "plt.xlabel(\"Value\")\n",
    "plt.ylabel(\"Density\")\n",
    "# Adding grid \n",
    "plt.grid()\n",
    "# Display the plot\n",
    "plt.show()"
   ]
  },
  {
   "cell_type": "markdown",
   "metadata": {},
   "source": [
    "p-value: 0.99999 — very high "
   ]
  },
  {
   "cell_type": "markdown",
   "metadata": {},
   "source": [
    "---\n",
    "#### Task 3: t-Test Calculation\n",
    "Consider the following dataset containing resting heart rates for patients before and after embarking on a two-week exercise program.\n",
    "\n",
    "Patient ID\t0\t1\t2\t3\t4\t5\t6\t7\t8\t9\n",
    "Before\t63\t68\t70\t64\t74\t67\t70\t57\t66\t65\n",
    "After\t64\t64\t68\t64\t73\t70\t72\t54\t61\t63\n",
    "Calculate the t-statistic based on this data set, using Python. Compare it to the value given by scipy.stats. Explain your work and list any sources used."
   ]
  },
  {
   "cell_type": "code",
   "execution_count": 8,
   "metadata": {},
   "outputs": [],
   "source": [
    "# Import libraries\n",
    "# https://numpy.org/doc/stable/reference/?v=20241021203608\n",
    "\n",
    "import numpy as np\n",
    "from scipy import stats\n",
    "\n",
    "# Import plotting\n",
    "import matplotlib.pyplot as plt\n",
    "\n",
    "# Statistical plots.\n",
    "import seaborn as sns\n"
   ]
  },
  {
   "cell_type": "markdown",
   "metadata": {},
   "source": [
    "#### Define the data for both \"before\" and \"after\" measurements"
   ]
  },
  {
   "cell_type": "code",
   "execution_count": null,
   "metadata": {},
   "outputs": [],
   "source": [
    "# Resting heart rates before and after on two-week exercise program.\n",
    "before = np.array([63, 68, 70, 64, 74, 67, 70, 57, 66, 65])\n",
    "after = np.array([64, 64, 68, 64, 73, 70, 72, 54, 61, 63])\n",
    "\n",
    "# Calculateting the differences.\n",
    "differences = before - after"
   ]
  },
  {
   "cell_type": "code",
   "execution_count": null,
   "metadata": {},
   "outputs": [],
   "source": [
    "# Calcutateing mean.\n",
    "# https://en.wikipedia.org/wiki/Mean\n",
    "mean_diff = np.mean(differences)\n"
   ]
  },
  {
   "cell_type": "code",
   "execution_count": null,
   "metadata": {},
   "outputs": [],
   "source": [
    "# Standard deviation of the differences.\n",
    "# https://numpy.org/doc/stable/reference/generated/numpy.std.html\n",
    "\n",
    "std_diff = np.std(differences, ddof=1)"
   ]
  },
  {
   "cell_type": "code",
   "execution_count": null,
   "metadata": {},
   "outputs": [],
   "source": [
    "#Calculate the sample size. \n",
    "#https://datagy.io/python-confidence-intervals/\n",
    "n = len(differences)\n"
   ]
  },
  {
   "cell_type": "markdown",
   "metadata": {},
   "source": []
  },
  {
   "cell_type": "code",
   "execution_count": 17,
   "metadata": {},
   "outputs": [
    {
     "data": {
      "image/png": "[encoded data removed]",
      "text/plain": [
       "<Figure size 640x480 with 1 Axes>"
      ]
     },
     "metadata": {},
     "output_type": "display_data"
    }
   ],
   "source": [
    "# Box plot.\n",
    "sns.boxplot(data=[before, after],  palette=[\"skyblue\", \"lightpink\"]);\n",
    "\n",
    "# Add title.\n",
    "plt.title('Box Plot of Heart Rates Before and After Exercise')\n",
    "\n",
    "# Add lable.\n",
    "plt.ylabel('Heart Rate (bpm)')\n",
    "plt.xticks([0, 1], ['Before Exercise', 'After Exercise'])\n",
    "\n",
    "# Add grid.\n",
    "plt.grid(True)\n",
    "\n",
    "# Show. \n",
    "plt.show()"
   ]
  },
  {
   "cell_type": "markdown",
   "metadata": {},
   "source": [
    "#### $t$-Test \n",
    "\n"
   ]
  },
  {
   "cell_type": "code",
   "execution_count": null,
   "metadata": {},
   "outputs": [
    {
     "data": {
      "text/plain": [
       "TtestResult(statistic=np.float64(0.4740968275126808), pvalue=np.float64(0.6411310132871086), df=np.float64(18.0))"
      ]
     },
     "execution_count": 38,
     "metadata": {},
     "output_type": "execute_result"
    }
   ],
   "source": [
    "# Perform a t-test.\n",
    "stats.ttest_ind(before, after)"
   ]
  },
  {
   "cell_type": "markdown",
   "metadata": {},
   "source": [
    "##### The $t$-statistic of 0.474 suggests that the difference between groups before and  gropu after is quite small"
   ]
  },
  {
   "cell_type": "code",
   "execution_count": null,
   "metadata": {},
   "outputs": [],
   "source": [
    "\n",
    "# Calculate the t-statistic. \n",
    "# https://www.datacamp.com/tutorial/an-introduction-to-python-t-tests\n",
    "t_statistic = mean_diff / (std_diff / np.sqrt(n))"
   ]
  },
  {
   "cell_type": "markdown",
   "metadata": {},
   "source": []
  },
  {
   "cell_type": "markdown",
   "metadata": {},
   "source": [
    "#### Results of the calculations"
   ]
  },
  {
   "cell_type": "code",
   "execution_count": null,
   "metadata": {},
   "outputs": [
    {
     "name": "stdout",
     "output_type": "stream",
     "text": [
      "t-statistic: 1.3372274824806283\n",
      "p-value: 0.21396011317404623\n"
     ]
    }
   ],
   "source": [
    "\n",
    "# Printing results for t-statistic.\n",
    "print(\"t-statistic:\", t_statistic)\n",
    "\n",
    "# Printing results for p-alue.\n",
    "print(\"p-value:\", p_value)\n"
   ]
  },
  {
   "cell_type": "code",
   "execution_count": null,
   "metadata": {},
   "outputs": [],
   "source": []
  },
  {
   "cell_type": "markdown",
   "metadata": {},
   "source": [
    "---\n",
    "#### Task 4: ANOVA\n",
    "In this test we will estimate the probability of committing a type II error in specific circumstances. To begin, create a variable called no_type_ii and set it to 0.\n",
    "\n",
    "Now use a loop to perform the following test 10,000 times.\n",
    "\n",
    "Use numpy.random.normal to generate three samples with 100 values each. Give each a standard deviation of 0.1. Give the first sample a mean of 4.9, the second a mean of 5.0, and the third a mean of 5.1.\n",
    "\n",
    "Perform one-way anova on the three samples and add 1 to no_type_ii whenever a type II error occurs.\n",
    "\n",
    "Summarize and explain your results."
   ]
  },
  {
   "cell_type": "markdown",
   "metadata": {},
   "source": []
  },
  {
   "cell_type": "code",
   "execution_count": 2,
   "metadata": {},
   "outputs": [],
   "source": [
    "# Import libraries.\n",
    "import numpy as np\n",
    "from scipy.stats import f_oneway\n",
    "\n",
    "# Plotting. \n",
    "import matplotlib as plt\n",
    "\n",
    "# Statistic function. \n",
    "import scipy.stats as stats\n",
    "\n",
    "import numpy as np\n",
    "import matplotlib.pyplot as plt"
   ]
  },
  {
   "cell_type": "code",
   "execution_count": 3,
   "metadata": {},
   "outputs": [],
   "source": [
    "# First sample.\n",
    "sample_1 = np.random.normal(loc=4.9, scale=0.1, size=100)\n",
    "\n",
    "# Second sample. \n",
    "sample_2 = np.random.normal(loc=5.0, scale=0.1, size=100)\n",
    "\n",
    "# Third sample.\n",
    "sample_3 = np.random.normal(loc=5.1, scale=0.1, size=100)"
   ]
  },
  {
   "cell_type": "markdown",
   "metadata": {},
   "source": [
    "### Histogram"
   ]
  },
  {
   "cell_type": "code",
   "execution_count": null,
   "metadata": {},
   "outputs": [
    {
     "data": {
      "image/png": "[encoded data removed]",
      "text/plain": [
       "<Figure size 1000x500 with 1 Axes>"
      ]
     },
     "metadata": {},
     "output_type": "display_data"
    }
   ],
   "source": [
    "# Create the histogram.\n",
    "fig, ax = plt.subplots(figsize=(10, 5))\n",
    "\n",
    "# Histogram of the first sample.\n",
    "ax.hist(sample_1, bins=15, alpha=0.6, label='Sample 1', color='skyblue')\n",
    "\n",
    "# Histogram of the second sample.\n",
    "ax.hist(sample_2, bins=15, alpha=0.6, label='Sample 2', color='lightgreen')\n",
    "\n",
    "# Histogram of the third sample.\n",
    "ax.hist(sample_3, bins=15, alpha=0.6, label='Sample 3', color='lightpink')\n",
    "\n",
    "# Add title.\n",
    "ax.set_title('Histogram of Samples 1, 2, and 3', fontsize=16, fontweight='bold')\n",
    "\n",
    "# Add legend.\n",
    "ax.legend(loc='upper right', fontsize=12)\n",
    "\n",
    "plt.tight_layout()"
   ]
  },
  {
   "cell_type": "code",
   "execution_count": 6,
   "metadata": {},
   "outputs": [
    {
     "data": {
      "text/plain": [
       "(np.float64(-7.596199082039298), np.float64(1.1838760325672534e-12))"
      ]
     },
     "execution_count": 6,
     "metadata": {},
     "output_type": "execute_result"
    }
   ],
   "source": [
    "# t-test on sample_1 and sample_2.\n",
    "t_statistic, p_value = stats.ttest_ind(sample_1, sample_2)\n",
    "\n",
    "\n",
    "t_statistic, p_value"
   ]
  },
  {
   "cell_type": "code",
   "execution_count": null,
   "metadata": {},
   "outputs": [
    {
     "data": {
      "text/plain": [
       "(np.float64(-16.931219820473697), np.float64(2.3802785785656154e-40))"
      ]
     },
     "execution_count": 7,
     "metadata": {},
     "output_type": "execute_result"
    }
   ],
   "source": [
    "# t-test on sample_1 and sample_3.\n",
    "t_statistic, p_value = stats.ttest_ind(sample_1, sample_3)\n",
    "\n",
    "\n",
    "t_statistic, p_value"
   ]
  },
  {
   "cell_type": "code",
   "execution_count": 9,
   "metadata": {},
   "outputs": [
    {
     "data": {
      "text/plain": [
       "(np.float64(-7.596199082039298), np.float64(1.1838760325672534e-12))"
      ]
     },
     "execution_count": 9,
     "metadata": {},
     "output_type": "execute_result"
    }
   ],
   "source": [
    "# t-test on sample_1 and sample_2.\n",
    "t_statistic, p_value = stats.ttest_ind(sample_1, sample_2)\n",
    "\n",
    "\n",
    "t_statistic, p_value"
   ]
  },
  {
   "cell_type": "code",
   "execution_count": 8,
   "metadata": {},
   "outputs": [
    {
     "data": {
      "text/plain": [
       "(np.float64(8.115199393587266), np.float64(5.041849413380694e-14))"
      ]
     },
     "execution_count": 8,
     "metadata": {},
     "output_type": "execute_result"
    }
   ],
   "source": [
    "# t-test on sample_3 and sample_2.\n",
    "t_statistic, p_value = stats.ttest_ind(sample_3, sample_2)\n",
    "\n",
    "\n",
    "t_statistic, p_value"
   ]
  },
  {
   "cell_type": "markdown",
   "metadata": {},
   "source": [
    "$s$-Sample"
   ]
  },
  {
   "cell_type": "code",
   "execution_count": 11,
   "metadata": {},
   "outputs": [],
   "source": [
    "# Number of samples.\n",
    "n = 10000"
   ]
  },
  {
   "cell_type": "code",
   "execution_count": null,
   "metadata": {},
   "outputs": [],
   "source": [
    "# https://www.datacamp.com/tutorial/anova-test\n",
    "# https://www.scribbr.com/statistics/type-i-and-type-ii-errors/\n",
    "# https://www.youtube.com/watch?v=EWYzeZbchR0"
   ]
  }
 ],
 "metadata": {
  "kernelspec": {
   "display_name": "Python 3",
   "language": "python",
   "name": "python3"
  },
  "language_info": {
   "codemirror_mode": {
    "name": "ipython",
    "version": 3
   },
   "file_extension": ".py",
   "mimetype": "text/x-python",
   "name": "python",
   "nbconvert_exporter": "python",
   "pygments_lexer": "ipython3",
   "version": "3.12.1"
  }
 },
 "nbformat": 4,
 "nbformat_minor": 2
}
